{
 "cells": [
  {
   "cell_type": "markdown",
   "id": "timely-battlefield",
   "metadata": {},
   "source": [
    "# Feature engineering related analysis\n",
    "\n",
    "This notebook is meant for the code & logic for feature engineering. It will include some visualization as well as pre-processing for the data."
   ]
  },
  {
   "cell_type": "code",
   "execution_count": null,
   "id": "chronic-element",
   "metadata": {},
   "outputs": [],
   "source": [
    "%matplotlib inline\n",
    "import os\n",
    "import re\n",
    "import pathlib\n",
    "import itertools\n",
    "from pprint import pprint\n",
    "from collections import defaultdict\n",
    "from datetime import datetime\n",
    "\n",
    "import pymongo\n",
    "import pandas as pd\n",
    "import numpy as np\n",
    "import matplotlib.pyplot as plt\n",
    "import seaborn as sns\n",
    "\n",
    "import matplotlib.dates as mdates\n",
    "import matplotlib.ticker as mticker\n",
    "import matplotlib.colors as mcolors\n",
    "\n",
    "import topcoder_mongo as DB\n",
    "import topcoder_ml as TML\n",
    "import static_var as S\n",
    "import util as U\n",
    "from topcoder_feature_engineering import get_challenge_tag_combination_count, get_tag_combination_softmax, compute_tag_feature\n",
    "\n",
    "sns.set(\n",
    "    rc={\n",
    "        'axes.facecolor':'#121212',\n",
    "        'figure.facecolor':'#121212',\n",
    "        'text.color': 'white',\n",
    "        'axes.titlecolor': 'white',\n",
    "        'axes.labelcolor': 'white',\n",
    "        'xtick.color': 'white',\n",
    "        'ytick.color': 'white',\n",
    "        'figure.autolayout': True,\n",
    "    },\n",
    ")\n",
    "\n",
    "pd.set_option('display.max_rows', 500)"
   ]
  },
  {
   "cell_type": "code",
   "execution_count": null,
   "id": "handy-soldier",
   "metadata": {},
   "outputs": [],
   "source": [
    "project_scale = pd.DataFrame.from_records(\n",
    "    DB.TopcoderMongo.get_project_scale([0, 10, 25, 75, 125])\n",
    ")\n",
    "\n",
    "challenge_wproj_tag = pd.concat([\n",
    "    pd.DataFrame({'id': row.challenge_lst, 'proj_scale_tag': row.tag})\n",
    "    for row in project_scale.reindex(['tag', 'challenge_lst'], axis=1).itertuples()]\n",
    ")\n",
    "\n",
    "project_scale = project_scale.reindex([col for col in project_scale.columns if col != 'challenge_lst'], axis=1)"
   ]
  },
  {
   "cell_type": "markdown",
   "id": "smooth-march",
   "metadata": {},
   "source": [
    "## Top2 Prize\n",
    "\n",
    "Training target: top 2 prize"
   ]
  },
  {
   "cell_type": "code",
   "execution_count": null,
   "id": "artificial-planet",
   "metadata": {},
   "outputs": [],
   "source": [
    "query = [\n",
    "    *DB.TopcoderMongo.scoped_challenge_with_text_query,\n",
    "    {'$unwind': '$prize_sets'},\n",
    "    {'$match': {'prize_sets.type': 'placement'}},\n",
    "    {'$project': {\n",
    "        '_id': False,\n",
    "        'id': True,\n",
    "        'top2_prize': {'$sum': {'$slice': ['$prize_sets.prizes.value', 2]}},\n",
    "    }},\n",
    "]\n",
    "\n",
    "challenge_top2_prize = pd.DataFrame.from_records(DB.TopcoderMongo.run_challenge_aggregation(query))"
   ]
  },
  {
   "cell_type": "markdown",
   "id": "infrared-equipment",
   "metadata": {},
   "source": [
    "## Tag\n",
    "\n",
    "The challenge tags will be encoded in following ways:\n",
    "1. Count the number of tags, number of 2-tag combination, number of 3-tag combination, number of 4-tag combination\n",
    "2. Pick the top 25 tag/combinations of each group.\n",
    "3. Compute the log value of counts, convert it to 4 softmax function\n",
    "4. Calculate summary of softmax score of 4 group of tag combination, as 4 feature digit array\n",
    "5. Calculate the binary encoded array of tag combinations as a 100 feature digit array"
   ]
  },
  {
   "cell_type": "code",
   "execution_count": null,
   "id": "detected-blackberry",
   "metadata": {},
   "outputs": [],
   "source": [
    "%%script false --no-raise-error # Time consuming code\n",
    "tag_softmax1, tag_softmax2, tag_softmax3, tag_softmax4 = tuple(get_tag_combination_softmax())"
   ]
  },
  {
   "cell_type": "code",
   "execution_count": null,
   "id": "psychological-screen",
   "metadata": {},
   "outputs": [],
   "source": [
    "%%script false --no-raise-error # Time consuming code\n",
    "tag_comb1, tag_comb2, tag_comb3, tag_comb4 = get_challenge_tag_combination_count()"
   ]
  },
  {
   "cell_type": "code",
   "execution_count": null,
   "id": "defined-plenty",
   "metadata": {},
   "outputs": [],
   "source": [
    "%%script false --no-raise-error # Time consuming code\n",
    "feature_df = pd.DataFrame.from_records(compute_tag_feature())\n",
    "feature_df.head(3)"
   ]
  },
  {
   "cell_type": "markdown",
   "id": "incomplete-colon",
   "metadata": {},
   "source": [
    "### Check out the new tags\n",
    "\n",
    "> A very randome thought: Can we compare the tag arrays' similarity inside the project\n",
    "> \n",
    "> And across project as well"
   ]
  },
  {
   "cell_type": "code",
   "execution_count": null,
   "id": "occupied-monte",
   "metadata": {},
   "outputs": [],
   "source": [
    "%%script false --no-raise-error # This block of code is kinda useless, so skipping\n",
    "from sklearn.decomposition import IncrementalPCA    # inital reduction\n",
    "from sklearn.manifold import TSNE                   # final reduction\n",
    "from sklearn.linear_model import LinearRegression\n",
    "\n",
    "tag_count, challenge_tags, word2vec = TML.challenge_tag_word2vec()\n",
    "\n",
    "def reduce_dimensions(model):\n",
    "    num_dimensions = 2  # final num dimensions (2D, 3D, etc)\n",
    "\n",
    "    vectors = [] # positions in vector space\n",
    "    labels = [] # keep track of words to label our data again later\n",
    "    for word in model.wv.vocab:\n",
    "        vectors.append(model.wv[word])\n",
    "        labels.append(word)\n",
    "\n",
    "    # convert both lists into numpy vectors for reduction\n",
    "    vectors = np.asarray(vectors)\n",
    "    labels = np.asarray(labels)\n",
    "\n",
    "    # reduce using t-SNE\n",
    "    vectors = np.asarray(vectors)\n",
    "    tsne = TSNE(n_components=num_dimensions, random_state=0)\n",
    "    vectors = tsne.fit_transform(vectors)\n",
    "    \n",
    "\n",
    "    wv = pd.DataFrame.from_records(vectors)\n",
    "    wv.columns = ['x', 'y']\n",
    "    wv['label'] = labels\n",
    "    \n",
    "    wv = wv.set_index('label').join(tag_count_df.set_index('tag'), how='inner').sort_values('count', ascending=False)\n",
    "    wv['top30'] = [True] * 30 + [False] * (len(wv) - 30)\n",
    "    \n",
    "    X, y = wv.loc[wv.top30].x.to_numpy().reshape(-1, 1), wv.loc[wv.top30].y.to_numpy()\n",
    "\n",
    "    reg = LinearRegression() # too lazy to eyeball...\n",
    "    reg.fit(X, y)\n",
    "    \n",
    "    return wv, reg\n",
    "\n",
    "wv, reg = reduce_dimensions(word2vec)\n",
    "\n",
    "fig, ax = plt.subplots(figsize=(12, 12), dpi=200)\n",
    "size_norm = mcolors.LogNorm(vmin=200, vmax=1500)\n",
    "size_range = (50, 1000)\n",
    "\n",
    "sns.scatterplot(\n",
    "    data=word2vec_with_count[::-1],\n",
    "    x='x',\n",
    "    y='y',\n",
    "    size='count',\n",
    "    sizes=size_range,\n",
    "    size_norm=size_norm,\n",
    "    hue='top30',\n",
    "    ax=ax,\n",
    "    linewidth=0.1,\n",
    "    alpha=0.75,\n",
    ")\n",
    "\n",
    "sns.despine(ax=ax, left=True, bottom=True)\n",
    "ax.grid(True, color='white', alpha=0.25)\n",
    "ax.set_xlim(-15, 12)\n",
    "ax.set_ylim(-15, 12)\n",
    "# ax.set_xlim(-6, 12)\n",
    "# ax.set_ylim(-15, 6)\n",
    "\n",
    "for row in wv.loc[wv.top30].reset_index().itertuples():\n",
    "    point_pos = 'over' if row.y > reg.predict([[row.x]])[0] else 'below'\n",
    "    ha, va = ('left', 'bottom') if point_pos == 'over' else ('right', 'top')\n",
    "    moving_step = (-1) ** int(point_pos == 'below') * (row.Index % 2 + 1)\n",
    "#     print(moving_step, point_pos)\n",
    "    x, y = (row.x + moving_step, row.y + moving_step)\n",
    "\n",
    "    ax.annotate(row.index, xy=(row.x, row.y), xytext=(x, y), arrowprops=dict(arrowstyle='-', alpha=0.25), alpha=0.85, ha=ha, va=va)\n",
    "\n",
    "# manually annotate\n",
    "for keyword in ('angular', 'ios', 'sql', 'react'):\n",
    "    for row in wv.loc[~wv.top30 & wv.index.to_series().str.lower().str.contains(keyword)].reset_index().itertuples():\n",
    "        point_pos = 'over' if row.y > reg.predict([[row.x]])[0] else 'below'\n",
    "        ha, va = ('left', 'bottom') if point_pos == 'over' else ('right', 'top')\n",
    "        moving_step = (-1) ** int(point_pos == 'below') * 2.5 ** (row.Index % 2)\n",
    "        \n",
    "        x, y = (row.x + moving_step, row.y + moving_step)\n",
    "\n",
    "        ax.annotate(row.index, xy=(row.x, row.y), xytext=(x, y), arrowprops=dict(arrowstyle='-', alpha=0.25), alpha=0.5, ha=ha, va=va)\n"
   ]
  },
  {
   "cell_type": "code",
   "execution_count": null,
   "id": "going-holocaust",
   "metadata": {
    "scrolled": false
   },
   "outputs": [],
   "source": [
    "%%script false --no-raise-error\n",
    "query = [\n",
    "    *DB.TopcoderMongo.scoped_challenge_with_text_query,\n",
    "    {'$unwind': '$tags'},\n",
    "    {'$group': {'_id': {'tag': '$tags'}, 'count': {'$sum': 1}}},\n",
    "    {'$replaceRoot': {'newRoot': {'$mergeObjects': ['$_id', {'count': '$count'}]}}}\n",
    "]\n",
    "\n",
    "tag_count_df = pd.DataFrame.from_records(\n",
    "    data=DB.TopcoderMongo.run_challenge_aggregation(query)\n",
    ").sort_values('count', ascending=False).reset_index(drop=True)\n",
    "tag_count_df = tag_count_df.loc[tag_count_df['count'] >= 5]\n"
   ]
  },
  {
   "cell_type": "code",
   "execution_count": null,
   "id": "objective-writing",
   "metadata": {
    "scrolled": false
   },
   "outputs": [],
   "source": [
    "query = [\n",
    "    *DB.TopcoderMongo.scoped_challenge_with_text_query,\n",
    "    {'$project': {'id': True, 'num_of_tags': {'$size': '$tags'}, '_id': False}},\n",
    "]\n",
    "\n",
    "challenge_tag_count = pd.DataFrame.from_records(DB.TopcoderMongo.run_challenge_aggregation(query))\n",
    "\n",
    "fig, ax = plt.subplots(figsize=(12, 5), dpi=200)\n",
    "\n",
    "num_of_tag_freq = challenge_tag_count.num_of_tags.value_counts().sort_index().to_frame().reset_index()\n",
    "num_of_tag_freq.columns = ['num_of_tag', 'count']\n",
    "\n",
    "sns.barplot(\n",
    "    data=num_of_tag_freq, x='num_of_tag', y='count', orient='v',\n",
    "    linewidth=0, ax=ax\n",
    ")\n",
    "sns.despine(ax=ax, left=True)\n",
    "ax.set_title('Number of Tags Distribution')\n",
    "ax.set_xlabel('Number of Tags')\n",
    "ax.set_ylabel('Count')\n",
    "\n",
    "ax.set_ylim(0, 1500)\n",
    "ax.yaxis.grid(True, color='white', alpha=0.5)\n",
    "\n",
    "for p in ax.patches:\n",
    "    cnt = p.get_height()\n",
    "    x = p.get_x() + p.get_width() * 0.5\n",
    "    y = p.get_height()\n",
    "    \n",
    "    ax.annotate(int(cnt), xy=(x, y), xytext=(x, y + 25), ha='center', alpha=0.85)\n"
   ]
  },
  {
   "cell_type": "code",
   "execution_count": null,
   "id": "regulated-segment",
   "metadata": {
    "scrolled": false
   },
   "outputs": [],
   "source": [
    "challenge_tag_count_wproj = challenge_tag_count.merge(challenge_wproj_tag, on='id')\n",
    "tag_freq_by_proj = challenge_tag_count_wproj.groupby(['num_of_tags', 'proj_scale_tag']).size().to_frame().reset_index()\n",
    "tag_freq_by_proj.columns = ['num_of_tags', 'proj_scale_tag', 'count']\n",
    "\n",
    "fig, ax = plt.subplots(figsize=(16, 6.67), dpi=200)\n",
    "\n",
    "sns.barplot(\n",
    "    data=tag_freq_by_proj, x='num_of_tags', y='count', hue='proj_scale_tag',\n",
    "    orient='v', linewidth=0,\n",
    "    ax=ax,\n",
    ")\n",
    "sns.despine(ax=ax, left=True)\n",
    "ax.set_title('Number of Tags Distribution')\n",
    "ax.set_xlabel('Number of Tags')\n",
    "ax.set_ylabel('Count')\n",
    "\n",
    "ax.set_ylim(0, 500)\n",
    "ax.yaxis.grid(True, color='white', alpha=0.5)\n"
   ]
  },
  {
   "cell_type": "code",
   "execution_count": null,
   "id": "comprehensive-induction",
   "metadata": {},
   "outputs": [],
   "source": [
    "ps_tChallenge = project_scale.reindex(['tag', 'num_of_project', 'num_of_challenge', 'num_of_completed', 'num_of_Challenge', 'num_of_completed_Challenge'], axis=1)"
   ]
  },
  {
   "cell_type": "code",
   "execution_count": null,
   "id": "grateful-addition",
   "metadata": {},
   "outputs": [],
   "source": [
    "scoped_count = (challenge_top2_prize\n",
    "                .set_index('id')\n",
    "                .join(challenge_wproj_tag.set_index('id'), how='inner').proj_scale_tag.value_counts()\n",
    "                .to_frame()\n",
    "                .sort_index()\n",
    "                .reset_index()\n",
    "                .rename(columns={'index': 'proj_scale_tag', 'proj_scale_tag': 'count'}))"
   ]
  },
  {
   "cell_type": "code",
   "execution_count": null,
   "id": "sized-survival",
   "metadata": {},
   "outputs": [],
   "source": []
  }
 ],
 "metadata": {
  "kernelspec": {
   "display_name": "TopcoderPricingResearch2021",
   "language": "python",
   "name": "topcoderpricingresearch2021"
  },
  "language_info": {
   "codemirror_mode": {
    "name": "ipython",
    "version": 3
   },
   "file_extension": ".py",
   "mimetype": "text/x-python",
   "name": "python",
   "nbconvert_exporter": "python",
   "pygments_lexer": "ipython3",
   "version": "3.9.1"
  }
 },
 "nbformat": 4,
 "nbformat_minor": 5
}
