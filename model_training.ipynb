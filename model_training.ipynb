{
 "cells": [
  {
   "cell_type": "code",
   "execution_count": null,
   "id": "structural-authority",
   "metadata": {},
   "outputs": [],
   "source": [
    "%matplotlib inline\n",
    "import itertools\n",
    "from pprint import pprint\n",
    "\n",
    "import pymongo\n",
    "import pandas as pd\n",
    "import numpy as np\n",
    "import matplotlib.pyplot as plt\n",
    "import seaborn as sns\n",
    "import matplotlib.dates as mdates\n",
    "import matplotlib.ticker as mticker\n",
    "import matplotlib.colors as mcolors\n",
    "\n",
    "from sklearn.model_selection import (\n",
    "    train_test_split,\n",
    "    ShuffleSplit,\n",
    "    StratifiedShuffleSplit,\n",
    "    GroupShuffleSplit,\n",
    "    cross_val_predict,\n",
    "    cross_val_score,\n",
    ")\n",
    "from sklearn.metrics import make_scorer\n",
    "from sklearn.linear_model import LinearRegression, BayesianRidge\n",
    "from sklearn.ensemble import RandomForestRegressor, GradientBoostingRegressor\n",
    "from sklearn.neighbors import KNeighborsRegressor\n",
    "from sklearn.svm import SVR\n",
    "\n",
    "import topcoder_mongo as DB\n",
    "import topcoder_ml as TML\n",
    "import static_var as S\n",
    "import util as U\n",
    "\n",
    "sns.set(\n",
    "    rc={\n",
    "        'axes.facecolor':'#121212',\n",
    "        'figure.facecolor':'#121212',\n",
    "        'text.color': 'white',\n",
    "        'axes.titlecolor': 'white',\n",
    "        'axes.labelcolor': 'white',\n",
    "        'xtick.color': 'white',\n",
    "        'ytick.color': 'white',\n",
    "        'figure.autolayout': True,\n",
    "    },\n",
    ")\n",
    "\n",
    "pd.set_option('display.max_rows', 500)"
   ]
  },
  {
   "cell_type": "markdown",
   "id": "caroline-kazakhstan",
   "metadata": {},
   "source": [
    "## Retrieve training data"
   ]
  },
  {
   "cell_type": "code",
   "execution_count": null,
   "id": "chicken-process",
   "metadata": {},
   "outputs": [],
   "source": [
    "feature, target = TML.get_training_data()\n",
    "X, y = feature.to_numpy(), target.to_numpy()"
   ]
  },
  {
   "cell_type": "code",
   "execution_count": null,
   "id": "timely-stomach",
   "metadata": {},
   "outputs": [],
   "source": [
    "target"
   ]
  },
  {
   "cell_type": "markdown",
   "id": "incorrect-citation",
   "metadata": {},
   "source": [
    "Let's visualize the distribution of `top2_prize`. I plot the frequency of different prize in a $50 interval."
   ]
  },
  {
   "cell_type": "code",
   "execution_count": null,
   "id": "elder-singapore",
   "metadata": {
    "scrolled": true
   },
   "outputs": [],
   "source": [
    "target.top2_prize.min(), target.top2_prize.max()"
   ]
  },
  {
   "cell_type": "code",
   "execution_count": null,
   "id": "heard-omaha",
   "metadata": {
    "scrolled": false
   },
   "outputs": [],
   "source": [
    "bins = int((2700 - 300) / 50)\n",
    "fig, ax = plt.subplots(figsize=(16, 6.67), dpi=200)\n",
    "\n",
    "sns.histplot(x=target.top2_prize, bins=bins, lw=0.5, ax=ax)\n",
    "sns.despine(ax=ax, left=True)\n",
    "ax.set_xlim(300, 2700)\n",
    "ax.xaxis.grid(False)\n",
    "ax.yaxis.grid(True, color='white', alpha=0.5)\n",
    "ax.set_title('Top2 Prize Distribution')\n",
    "ax.set_xlabel('Top2 Prize')\n",
    "ax.xaxis.set_major_locator(mticker.MultipleLocator(100))\n",
    "\n",
    "for p in ax.patches:\n",
    "    cnt = p.get_height()\n",
    "    x = p.get_x() + p.get_width() / 2\n",
    "    y = p.get_height()\n",
    "    ax.annotate(int(cnt), xy=(x, y), xytext=(x, y + 5), color='white', alpha=0.85, ha='center')"
   ]
  },
  {
   "cell_type": "markdown",
   "id": "needed-subsection",
   "metadata": {},
   "source": [
    "I decide to run a Mongo query to get the challenge ids for each bin, because using `pandas` to achieve that will take more tweak and twist that just run a (still relatively complicated) query."
   ]
  },
  {
   "cell_type": "code",
   "execution_count": null,
   "id": "peaceful-alloy",
   "metadata": {
    "scrolled": false
   },
   "outputs": [],
   "source": [
    "challenge_prize_with_tag = TML.get_challenge_prize_range()"
   ]
  },
  {
   "cell_type": "code",
   "execution_count": null,
   "id": "colored-tribe",
   "metadata": {},
   "outputs": [],
   "source": [
    "full_data_count = challenge_prize_with_tag.groupby('prize_range').size().to_frame().reset_index().rename(columns={0: 'count'})\n",
    "full_data_count['sort_key'] = (full_data_count['prize_range']\n",
    "                                .str.strip('[]()')\n",
    "                                .str.split(', ')\n",
    "                                .apply(lambda t: float(t[0])))\n",
    "full_data_count = full_data_count.sort_values('sort_key').reset_index(drop=True)\n",
    "\n",
    "test_data = challenge_prize_with_tag.groupby('prize_range').sample(frac=0.3, random_state=42).reset_index(drop=True).rename(columns={0: 'count'})\n",
    "test_data['sort_key'] = (test_data['prize_range']\n",
    "                        .str.strip('[]()')\n",
    "                        .str.split(', ')\n",
    "                        .apply(lambda t: float(t[0])))\n",
    "test_data = test_data.sort_values('sort_key').reset_index(drop=True)\n",
    "\n",
    "test_data_count = test_data.groupby('prize_range').size().to_frame().reset_index().rename(columns={0: 'count'})\n",
    "test_data_count['sort_key'] = (test_data_count['prize_range']\n",
    "                        .str.strip('[]()')\n",
    "                        .str.split(', ')\n",
    "                        .apply(lambda t: float(t[0])))\n",
    "test_data_count = test_data_count.sort_values('sort_key').reset_index(drop=True)\n",
    "\n",
    "plotting_data = (full_data_count.merge(test_data_count,\n",
    "                                       how='outer', on='prize_range', suffixes=('_full', '_test'))\n",
    "                                 .fillna(0)\n",
    "                                 .append({\n",
    "                                    'prize_range': '[2450.0, 2500.0)',\n",
    "                                    'count_full': 0,\n",
    "                                    'sort_key_full': 2450.0,\n",
    "                                    'count_test': 0.0,\n",
    "                                    'sort_key_test': 2450.0}, ignore_index=True).sort_values('sort_key_full')\n",
    "                                 .reindex(['prize_range', 'count_full', 'count_test'], axis=1)\n",
    "                                 .astype({'count_test': int}))\n"
   ]
  },
  {
   "cell_type": "code",
   "execution_count": null,
   "id": "mature-decrease",
   "metadata": {
    "scrolled": false
   },
   "outputs": [],
   "source": [
    "fig, ax = plt.subplots(figsize=(16, 6.67), dpi=200)\n",
    "\n",
    "sns.barplot(\n",
    "    data=plotting_data, x='prize_range', y='count_full',\n",
    "    color='#456fc3', alpha=0.85, lw=0.5,\n",
    "    label='training data', ax=ax,\n",
    ")\n",
    "sns.barplot(\n",
    "    data=plotting_data, x='prize_range', y='count_test',\n",
    "    color='#ffa600', lw=0,\n",
    "    label='testing data', ax=ax\n",
    ")\n",
    "sns.despine(ax=ax, left=True)\n",
    "ax.yaxis.grid(True, color='white', alpha=0.5)\n",
    "ax.legend()\n",
    "\n",
    "ax.set_xticks([i - 0.5 for i in np.linspace(0, 48, 25)])\n",
    "ax.set_xticklabels([int(i) for i in np.linspace(300, 2700, 25)], ha='center')\n",
    "# ax.set_xticklabels(ax.get_xticklabels(), rotation=-90, ha='center')\n",
    "ax.set_xlabel('Prize')\n",
    "ax.set_ylabel('Count')\n",
    "ax.set_title('Challenge Prize Distribution')\n",
    "\n",
    "target_width = 1\n",
    "for idx, p in enumerate(ax.patches):\n",
    "    orig_width = p.get_width()\n",
    "    p.set_width(target_width)\n",
    "    p.set_x(p.get_x() - (target_width - orig_width) / 2)\n",
    "    \n",
    "#     cnt = p.get_height()\n",
    "#     x, y = p.get_x() + p.get_width() / 2, p.get_height()\n",
    "#     ytext = (y + 5) if idx >= len(plotting_data) else (y + (20 if y < 100 else 5))\n",
    "#     ax.annotate(int(cnt), xy=(x, y), xytext=(x, ytext), ha='center', color='white', alpha=0.85)\n",
    "    \n",
    "# fig.savefig('../../presentation/presentation7/train_test_split.png', dpi='figure', transparent=True)"
   ]
  },
  {
   "cell_type": "markdown",
   "id": "deadly-signal",
   "metadata": {},
   "source": [
    "## 10-Fold Cross Validation Predict\n",
    "\n",
    "### Get processed training data"
   ]
  },
  {
   "cell_type": "code",
   "execution_count": null,
   "id": "pleasant-slave",
   "metadata": {
    "scrolled": false
   },
   "outputs": [],
   "source": [
    "feature, target = TML.get_training_data()\n",
    "train_ids, test_ids = TML.get_train_test_index(test_size=0.3)\n",
    "\n",
    "feature_train, feature_test = feature.loc[feature.index.isin(train_ids)], feature.loc[feature.index.isin(test_ids)]\n",
    "target_train, target_test = target.loc[target.index.isin(train_ids)], target.loc[target.index.isin(test_ids)]"
   ]
  },
  {
   "cell_type": "markdown",
   "id": "negative-manhattan",
   "metadata": {},
   "source": [
    "The feature columns are composed as follow:\n",
    "\n",
    "1. $d_0, d_1, d_2 ~ d_5 $: Numeric features `duration`, `num_of_competing_challenges`, `softmax_c1` to `softmax_c4`;\n",
    "2. $d_6, d_7 $: Categorical features `project_id` and `sub_track`;\n",
    "3. $d_8 - d_{107} $: One Hot Encoded tag and tag combination;\n",
    "4. $d_{108} - d_{207} $: Document vector for challenge description text representation."
   ]
  },
  {
   "cell_type": "code",
   "execution_count": null,
   "id": "scheduled-williams",
   "metadata": {
    "scrolled": false
   },
   "outputs": [],
   "source": [
    "feature"
   ]
  },
  {
   "cell_type": "markdown",
   "id": "heard-montgomery",
   "metadata": {},
   "source": [
    "### Cross Validation with Training Dataset"
   ]
  },
  {
   "cell_type": "code",
   "execution_count": null,
   "id": "distinguished-appearance",
   "metadata": {},
   "outputs": [],
   "source": [
    "score = cross_val_score(\n",
    "    TML.construct_training_pipeline(),\n",
    "    feature_train,\n",
    "    target_train.to_numpy().reshape(-1),\n",
    "    scoring=make_scorer(TML.mean_magnitude_of_relative_error, greater_is_better=False),\n",
    "    cv=ShuffleSplit(n_splits=10, test_size=0.1, random_state=42)\n",
    ")\n",
    "np.mean(score)"
   ]
  },
  {
   "cell_type": "code",
   "execution_count": null,
   "id": "loved-swaziland",
   "metadata": {},
   "outputs": [],
   "source": [
    "target_pred = cross_val_predict(\n",
    "    TML.construct_training_pipeline(),\n",
    "    feature_train,\n",
    "    target_train.to_numpy().reshape(-1),\n",
    "    cv=10,\n",
    ")\n",
    "cv_result = pd.concat([target_train.reset_index(), pd.DataFrame(target_pred)], axis=1).rename(columns={0: 'pred'})\n",
    "cv_result['mae'] = cv_result['top2_prize'] - cv_result['pred']\n",
    "cv_result['mre'] = cv_result['mae'].abs() / cv_result['top2_prize']"
   ]
  },
  {
   "cell_type": "code",
   "execution_count": null,
   "id": "duplicate-morgan",
   "metadata": {},
   "outputs": [],
   "source": [
    "# MMRE\n",
    "cv_result['mre'].mean()"
   ]
  },
  {
   "cell_type": "code",
   "execution_count": null,
   "id": "separate-security",
   "metadata": {},
   "outputs": [],
   "source": [
    "cv_result.reindex(['mae', 'mre'], axis=1).describe()"
   ]
  },
  {
   "cell_type": "markdown",
   "id": "acquired-valentine",
   "metadata": {},
   "source": [
    "### Test the model using testing set"
   ]
  },
  {
   "cell_type": "code",
   "execution_count": null,
   "id": "monthly-farming",
   "metadata": {},
   "outputs": [],
   "source": [
    "est = TML.construct_training_pipeline()\n",
    "est.fit(feature_train, target_train.to_numpy().reshape(-1))\n",
    "pred = est.predict(feature_test)\n",
    "\n",
    "# test_result = pd.concat([target_test.reset_index(), pd.DataFrame(pred)], axis=1).rename(columns={0: 'pred'})\n",
    "# test_result['mae'] = test_result['top2_prize'] - test_result['pred']\n",
    "# test_result['mre'] = test_result['mae'].abs() / test_result['top2_prize']"
   ]
  },
  {
   "cell_type": "code",
   "execution_count": null,
   "id": "graduate-default",
   "metadata": {},
   "outputs": [],
   "source": [
    "TML.mean_magnitude_of_relative_error(target_test.to_numpy().reshape(-1), pred)"
   ]
  },
  {
   "cell_type": "code",
   "execution_count": null,
   "id": "interstate-intro",
   "metadata": {},
   "outputs": [],
   "source": [
    "## MMRE\n",
    "test_result['mre'].mean()"
   ]
  },
  {
   "cell_type": "code",
   "execution_count": null,
   "id": "several-terror",
   "metadata": {},
   "outputs": [],
   "source": [
    "test_result.reindex(['mae', 'mre'], axis=1).describe()"
   ]
  },
  {
   "cell_type": "code",
   "execution_count": null,
   "id": "perfect-breed",
   "metadata": {
    "scrolled": true
   },
   "outputs": [],
   "source": [
    "impt = pd.DataFrame(est['gbr'].feature_importances_).rename(columns={0: 'importance'}, index=dict(enumerate(feature.columns.tolist())))\n",
    "impt.sort_values('importance', ascending=False).head(25)"
   ]
  },
  {
   "cell_type": "markdown",
   "id": "employed-horizon",
   "metadata": {},
   "source": [
    "### Use `cross_validate_predict` to get the prediction of all dataset"
   ]
  },
  {
   "cell_type": "code",
   "execution_count": null,
   "id": "regional-shaft",
   "metadata": {
    "scrolled": true
   },
   "outputs": [],
   "source": [
    "est_for_all = TML.construct_training_pipeline()\n",
    "pred = cross_val_predict(est_for_all, feature, target.to_numpy().reshape(-1), cv=10)\n",
    "\n",
    "all_data_result = pd.concat([target.reset_index(), pd.DataFrame(pred)], axis=1).rename(columns={0: 'pred'})\n",
    "all_data_result['mae'] = all_data_result['top2_prize'] - all_data_result['pred']\n",
    "all_data_result['mre'] = all_data_result['mae'].abs() / all_data_result['top2_prize']"
   ]
  },
  {
   "cell_type": "code",
   "execution_count": null,
   "id": "aboriginal-australian",
   "metadata": {},
   "outputs": [],
   "source": [
    "# MMRE\n",
    "all_data_result['mre'].mean()"
   ]
  },
  {
   "cell_type": "code",
   "execution_count": null,
   "id": "electrical-butler",
   "metadata": {},
   "outputs": [],
   "source": [
    "all_data_result.reindex(['mae', 'mre'], axis=1).describe()"
   ]
  },
  {
   "cell_type": "markdown",
   "id": "local-lawyer",
   "metadata": {},
   "source": [
    "### Iterate over multiple learning algorithms for training score and testing score\n",
    "\n"
   ]
  },
  {
   "cell_type": "code",
   "execution_count": null,
   "id": "recreational-authority",
   "metadata": {},
   "outputs": [],
   "source": [
    "estimator_lst = [\n",
    "    (GradientBoostingRegressor, dict(random_state=42)),\n",
    "    (RandomForestRegressor, dict(random_state=42)),\n",
    "    (LinearRegression, {}),\n",
    "    (BayesianRidge, {}),\n",
    "    (SVR, {}),\n",
    "]\n",
    "\n",
    "result = []\n",
    "for est, estp in estimator_lst:\n",
    "    print('Training', est.__name__)\n",
    "    train_score = np.abs(np.mean(cross_val_score(\n",
    "        TML.construct_training_pipeline(estimator=est, est_param=estp),\n",
    "        feature_train,\n",
    "        target_train.to_numpy().reshape(-1),\n",
    "        scoring=make_scorer(TML.mean_magnitude_of_relative_error, greater_is_better=False),\n",
    "        cv=ShuffleSplit(n_splits=10, test_size=0.3, random_state=42)\n",
    "    )))\n",
    "    \n",
    "    estimator = TML.construct_training_pipeline(estimator=est, est_param=estp)\n",
    "    estimator.fit(feature_train, target_train.to_numpy().reshape(-1))\n",
    "    test_pred = estimator.predict(feature_test)\n",
    "\n",
    "    test_score = TML.mean_magnitude_of_relative_error(target_test.to_numpy().reshape(-1), test_pred)\n",
    "    \n",
    "    result.append({'estimator': est.__name__, 'train_score': train_score, 'test_score': test_score})"
   ]
  },
  {
   "cell_type": "code",
   "execution_count": null,
   "id": "thick-interstate",
   "metadata": {},
   "outputs": [],
   "source": [
    "pd.DataFrame.from_records(result)"
   ]
  },
  {
   "cell_type": "markdown",
   "id": "regional-chosen",
   "metadata": {},
   "source": [
    "### Cross Validation Strategy\n",
    "\n",
    "The \"Independent and Identically Distributed\" assumption that \n",
    "\n",
    "> _all samples stem from the same generative process and that the generative process is assumed to have no memory of past generated samples_\n",
    "\n",
    "may not hold in the scenario of Topcoder dataset. So the following cross validation strategy will be used to split the training and testing sets.\n",
    "\n",
    "1. Split the dataset by `top2_prize` as if it's a classification problem. i.e. make sure different prizes are presented in the validation set.\n",
    "2. Split by `project_id` (assuming that challenges are dependant within each project)\n",
    "2. Split by `sub_track` (assuming that challenges are dependant within each sub-track)"
   ]
  }
 ],
 "metadata": {
  "kernelspec": {
   "display_name": "TopcoderPricingResearch2021",
   "language": "python",
   "name": "topcoderpricingresearch2021"
  },
  "language_info": {
   "codemirror_mode": {
    "name": "ipython",
    "version": 3
   },
   "file_extension": ".py",
   "mimetype": "text/x-python",
   "name": "python",
   "nbconvert_exporter": "python",
   "pygments_lexer": "ipython3",
   "version": "3.9.1"
  }
 },
 "nbformat": 4,
 "nbformat_minor": 5
}
